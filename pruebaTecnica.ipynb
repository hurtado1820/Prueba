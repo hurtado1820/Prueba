{
  "nbformat": 4,
  "nbformat_minor": 0,
  "metadata": {
    "colab": {
      "name": "pruebaTecnica.ipynb",
      "provenance": [],
      "collapsed_sections": [],
      "authorship_tag": "ABX9TyPyuZhsD6b3hT4Ia31yXfH0",
      "include_colab_link": true
    },
    "kernelspec": {
      "name": "python3",
      "display_name": "Python 3"
    },
    "language_info": {
      "name": "python"
    }
  },
  "cells": [
    {
      "cell_type": "markdown",
      "metadata": {
        "id": "view-in-github",
        "colab_type": "text"
      },
      "source": [
        "<a href=\"https://colab.research.google.com/github/hurtado1820/Prueba/blob/main/pruebaTecnica.ipynb\" target=\"_parent\"><img src=\"https://colab.research.google.com/assets/colab-badge.svg\" alt=\"Open In Colab\"/></a>"
      ]
    },
    {
      "cell_type": "markdown",
      "metadata": {
        "id": "zhEGIgEJZX-v"
      },
      "source": [
        "##Solución punto 3"
      ]
    },
    {
      "cell_type": "code",
      "metadata": {
        "colab": {
          "base_uri": "https://localhost:8080/"
        },
        "id": "xLSOUB-py6YY",
        "outputId": "523d9d17-0153-4d1c-af14-ffba70c06d96"
      },
      "source": [
        "simbolos = [',' , '.' , '(' , ')' , '!' , '¡' , '?' , '¿'] #Simbolos a quitar de la cadena de texto\n",
        "palabras = [] #Almacenar cada una de las palabras de la cadena en una posición del arreglo\n",
        "cantidad_palabras = {} #Palabra y cantidad de veces que aparece\n",
        "\n",
        "texto = input('Ingrese un texto: ').lower()\n",
        "\n",
        "#Eliminacion de simbolos\n",
        "for x in range(len(simbolos)):\n",
        "  texto = texto.replace(simbolos[x],' ')\n",
        "\n",
        "#Separacion de cada palabra en un arreglo\n",
        "palabras = texto.split()\n",
        "\n",
        "#Conteo cuantas veces aparece una palabra\n",
        "for i in palabras:\n",
        "  if i in cantidad_palabras.keys():\n",
        "    cantidad_palabras[i] += 1\n",
        "  else:\n",
        "    cantidad_palabras[i] = 1  \n",
        "\n",
        "#Mostrar en pantalla conteo\n",
        "cant = ''\n",
        "for key, value in cantidad_palabras.items():\n",
        "  cant = 'vez' if value == 1 else 'veces'\n",
        "  print(f'{key} : {value} {cant}') \n",
        "\n"
      ],
      "execution_count": 18,
      "outputs": [
        {
          "output_type": "stream",
          "name": "stdout",
          "text": [
            "Ingrese un texto: hello world, big WoRld\n",
            "hello : 1 vez\n",
            "world : 2 veces\n",
            "big : 1 vez\n"
          ]
        }
      ]
    },
    {
      "cell_type": "markdown",
      "metadata": {
        "id": "ecY9hc6fZjt7"
      },
      "source": [
        "##Solución punto 4"
      ]
    },
    {
      "cell_type": "code",
      "metadata": {
        "colab": {
          "base_uri": "https://localhost:8080/"
        },
        "id": "cUB5c7PAzRUp",
        "outputId": "1f136fae-97a9-43c2-c5b2-e97ae6031638"
      },
      "source": [
        "apertura = ['(' , '{' , '['] #Signos de apertura\n",
        "cierre = [')' , '}' , ']'] #Signos de cierre\n",
        "pila = [] #Agregar y eliminar los signos\n",
        "\n",
        "entrada = input('Ingrese cadena: ')\n",
        "\n",
        "contador = 0 #Evaluar cantidad de parejas\n",
        "\n",
        "#Comparacion de cada elemento de la entrada\n",
        "for elemento in entrada:\n",
        "  if elemento in apertura:\n",
        "    pila.append(elemento)\n",
        "    contador += 1\n",
        "  elif (elemento in cierre) and (contador > 0):\n",
        "    index = cierre.index(elemento)\n",
        "    contador -= 1\n",
        "    if pila[-1] == apertura[index]:\n",
        "      pila.pop()\n",
        "\n",
        "#Comprobacion de elementos restantes en pila\n",
        "if len(pila)>0:\n",
        "  print('Incorrecto') \n",
        "else:\n",
        "  print('Correcto')  \n",
        "\n"
      ],
      "execution_count": 48,
      "outputs": [
        {
          "output_type": "stream",
          "name": "stdout",
          "text": [
            "Ingrese cadena: [()()(){[][]}{([]{})}]\n",
            "Correcto\n"
          ]
        }
      ]
    },
    {
      "cell_type": "code",
      "metadata": {
        "id": "QtfKo1BEdSoZ"
      },
      "source": [
        ""
      ],
      "execution_count": null,
      "outputs": []
    }
  ]
}